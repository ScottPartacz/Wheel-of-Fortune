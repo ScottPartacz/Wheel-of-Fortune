{
 "cells": [
  {
   "cell_type": "code",
   "execution_count": 53,
   "metadata": {},
   "outputs": [],
   "source": [
    "import json\n",
    "import random\n",
    "import time\n",
    "from datetime import datetime\n",
    "\n",
    "\n",
    "def spin():\n",
    "    random.seed(datetime.now())\n",
    "\n",
    "    temp = random.randint(0,len(wheel) - 1)\n",
    "\n",
    "    land = wheel[temp]\n",
    "\n",
    "    if land.isnumeric():\n",
    "        return land\n",
    "\n",
    "    elif land == \"Lose a Turn\":\n",
    "        return 1\n",
    "\n",
    "    elif land == \"BANKRUPT\":\n",
    "        return 0\n",
    "\n",
    "    elif land == \"Mystery\":\n",
    "        flip = random.randint(1,2)\n",
    "\n",
    "        if flip == 1:\n",
    "            return 1000\n",
    "        else:\n",
    "            return 0\n",
    "\n",
    "    elif land == \"Million\":\n",
    "        section = random.randint(1,3)\n",
    "        print(\"million\")\n",
    "        print(section)\n",
    "\n",
    "        if section == 2:\n",
    "            return 1000000\n",
    "        else:\n",
    "            return 0\n",
    "\n",
    "def rounds():\n",
    "    return \"apple\"\n",
    "\n",
    "def final_round():\n",
    "    return \"apple\"\n",
    "\n",
    "\n",
    "bank = [0,0,0]\n",
    "\n",
    "round_counter = 1\n",
    "player_turn = 1\n",
    "\n",
    "wheel = [\"Lose a Turn\",\"BANKRUPT\",\"Mystery\",\"Million\"]\n",
    "for x in range (2,19):\n",
    "    wheel.append(str(50 * x))\n",
    "\n",
    "file = open(\"phrases.json\",\"r\")\n",
    "phrases_hints = json.load(file)\n",
    "\n"
   ]
  }
 ],
 "metadata": {
  "interpreter": {
   "hash": "aab2652dd422b8952e87837d88345d2dc429e222c6ab5d96b6e49515aa907270"
  },
  "kernelspec": {
   "display_name": "Python 3.9.7 64-bit ('base': conda)",
   "language": "python",
   "name": "python3"
  },
  "language_info": {
   "codemirror_mode": {
    "name": "ipython",
    "version": 3
   },
   "file_extension": ".py",
   "mimetype": "text/x-python",
   "name": "python",
   "nbconvert_exporter": "python",
   "pygments_lexer": "ipython3",
   "version": "3.9.7"
  },
  "orig_nbformat": 4
 },
 "nbformat": 4,
 "nbformat_minor": 2
}
