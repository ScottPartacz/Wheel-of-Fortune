{
 "cells": [
  {
   "cell_type": "code",
   "execution_count": 41,
   "metadata": {},
   "outputs": [],
   "source": [
    "from bs4 import BeautifulSoup\n",
    "import requests\n",
    "import json\n",
    "\n",
    "dict = {}\n",
    "\n",
    "hints = [\"around-the-house\",\"before-and-after\",\"book-title\",\"classic-movie\",\"classic-tv\",\"college-life\",\"event\",\"family\",\"fictional-character\",\"fictional-place\",\"food-and-drink\",\"fun-and-games\",\"headline\",\"husband-and-wife\",\"in-the-kitchen\",\"landmark\",\"living-thing\",\"megaword\",\"movie-quotes\"]\n",
    "\n",
    "for y in hints:\n",
    "    counter = 0\n",
    "    html = requests.get(\"https://wheeloffortuneanswer.com/\" + y + \"/\").text\n",
    "\n",
    "    soup = BeautifulSoup(html, 'lxml')\n",
    "    for s in soup.select('a'):\n",
    "        s.extract()\n",
    "    phrases = soup.find_all(\"td\",class_ = \"column-1\")\n",
    "\n",
    "    for x in range(0,50):\n",
    "        phrases.pop(len(phrases) - 1)\n",
    "\n",
    "\n",
    "    for x in phrases:\n",
    "        if counter < 10 and True:\n",
    "            key = x.get_text().strip()\n",
    "            dict[key] = y\n",
    "            counter += 1\n",
    "        \n",
    "with open(\"phrases.json\",\"w\") as file:\n",
    "    json.dump(dict, file)"
   ]
  }
 ],
 "metadata": {
  "interpreter": {
   "hash": "aab2652dd422b8952e87837d88345d2dc429e222c6ab5d96b6e49515aa907270"
  },
  "kernelspec": {
   "display_name": "Python 3.9.7 64-bit ('base': conda)",
   "language": "python",
   "name": "python3"
  },
  "language_info": {
   "codemirror_mode": {
    "name": "ipython",
    "version": 3
   },
   "file_extension": ".py",
   "mimetype": "text/x-python",
   "name": "python",
   "nbconvert_exporter": "python",
   "pygments_lexer": "ipython3",
   "version": "3.9.7"
  },
  "orig_nbformat": 4
 },
 "nbformat": 4,
 "nbformat_minor": 2
}
